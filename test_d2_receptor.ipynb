{
 "cells": [
  {
   "cell_type": "code",
   "execution_count": 1,
   "metadata": {},
   "outputs": [],
   "source": [
    "from D2Receptor import D2Receptor\n",
    "from utils import ExponentialSynapse, SynapticNeuron, InputCurrent\n",
    "from neuron import h\n",
    "from neuron.units import ms, mV\n",
    "from tqdm import tqdm \n",
    "import numpy as np\n",
    "import matplotlib.pyplot as plt \n",
    "%matplotlib inline"
   ]
  },
  {
   "cell_type": "code",
   "execution_count": 2,
   "metadata": {},
   "outputs": [
    {
     "data": {
      "text/plain": [
       "1.0"
      ]
     },
     "execution_count": 2,
     "metadata": {},
     "output_type": "execute_result"
    }
   ],
   "source": [
    "h.load_file(\"stdrun.hoc\")"
   ]
  },
  {
   "cell_type": "code",
   "execution_count": 3,
   "metadata": {},
   "outputs": [
    {
     "name": "stderr",
     "output_type": "stream",
     "text": [
      "100%|██████████| 10/10 [00:00<00:00, 4967.20it/s]\n"
     ]
    }
   ],
   "source": [
    "N_glutamate_neurons = 10\n",
    "neurons = []\n",
    "radius = 50\n",
    "\n",
    "for i in tqdm(range(N_glutamate_neurons)):\n",
    "    theta = i * 2 * h.PI / N_glutamate_neurons\n",
    "    neurons.append(SynapticNeuron(neuron_type=\"glutamate_neuron\", gid=i, create_dendrite=False, \n",
    "                        hodgkin_huxley=True, x=h.cos(theta) * radius, y=h.sin(theta) + radius, z=0, theta=theta, \n",
    "                        n_soma_segments=1, n_dendrite_segments=0))"
   ]
  },
  {
   "cell_type": "code",
   "execution_count": 4,
   "metadata": {},
   "outputs": [
    {
     "data": {
      "text/plain": [
       "1.0"
      ]
     },
     "execution_count": 4,
     "metadata": {},
     "output_type": "execute_result"
    }
   ],
   "source": [
    "h.nrn_load_dll(\"/Users/Ethan/Documents/Documents/GithubRepos/NEURONExperiments/NMODL/arm64/.libs/libnrnmech.so\")"
   ]
  },
  {
   "cell_type": "code",
   "execution_count": 5,
   "metadata": {},
   "outputs": [
    {
     "name": "stdout",
     "output_type": "stream",
     "text": [
      "Mechanism: morphology\n",
      "Mechanism: capacitance\n",
      "Mechanism: pas\n",
      "Mechanism: extracellular\n",
      "Mechanism: fastpas\n",
      "Mechanism: na_ion\n",
      "Mechanism: k_ion\n",
      "Mechanism: hh\n",
      "Mechanism: cl_ion\n",
      "IClamp\n",
      "AlphaSynapse\n",
      "ExpSyn\n",
      "Exp2Syn\n",
      "SEClamp\n",
      "VClamp\n",
      "OClamp\n",
      "APCount\n",
      "NetStim\n",
      "IntFire1\n",
      "IntFire2\n",
      "IntFire4\n",
      "PointProcessMark\n",
      "PatternStim\n",
      "GABA_A_Channel\n",
      "GenericLigand\n",
      "NMDA16_2\n",
      "NMDA_Channel_Calcium\n",
      "SynNoise\n"
     ]
    }
   ],
   "source": [
    "mt = h.MechanismType(0)\n",
    "mname  = h.ref('')\n",
    "for i in range(mt.count()):\n",
    "    mt.select(i)\n",
    "    mt.selected(mname)\n",
    "    print(f\"Mechanism: {mname[0]}\")\n",
    "\n",
    "# Print the names of all point processes\n",
    "mt = h.MechanismType(1)\n",
    "mname  = h.ref('')\n",
    "for i in range(mt.count()):\n",
    "    mt.select(i)\n",
    "    mt.selected(mname)\n",
    "    print(mname[0])"
   ]
  },
  {
   "cell_type": "code",
   "execution_count": 6,
   "metadata": {},
   "outputs": [],
   "source": [
    "total_sim_time = 1200 # ms\n",
    "resting_membrane_potential = -65\n",
    "dt = 0.25"
   ]
  },
  {
   "cell_type": "code",
   "execution_count": 7,
   "metadata": {},
   "outputs": [],
   "source": [
    "# glutamate from motor cortex\n",
    "presynaptic_neuron = neurons[0]\n",
    "glutamate = h.GenericLigand(presynaptic_neuron.soma(0.5))\n",
    "glutamate.decay_rate = 0.1\n",
    "syn = ExponentialSynapse(presynaptic_neuron, soma_synapse=True)\n",
    "syn.synapse.e = 0.0\n",
    "\n",
    "postsynaptic_neuron = SynapticNeuron(neuron_type=\"striatal_neuron\", gid=11, create_dendrite=True, \n",
    "                        hodgkin_huxley=False, x=h.cos(theta) * radius, y=h.sin(theta) + radius, z=0, theta=theta, \n",
    "                        n_soma_segments=1, n_dendrite_segments=1)\n",
    "postsynaptic_neuron.soma.insert('pas')\n",
    "\n",
    "# striatal GABAergic neuron for dopamine to bind onto\n",
    "presynaptic_neuron_2 = SynapticNeuron(neuron_type=\"gaba_neuron\", gid=12, create_dendrite=True, \n",
    "                        hodgkin_huxley=True, x=h.cos(theta) * radius, y=h.sin(theta) + radius, z=0, theta=theta, \n",
    "                        n_soma_segments=1, n_dendrite_segments=1)\n",
    "gaba = h.GenericLigand(presynaptic_neuron_2.soma(0.5))\n",
    "gaba.decay_rate = 0.1\n",
    "gaba.C_init = 0.4\n",
    "syn_2 = ExponentialSynapse(presynaptic_neuron_2, soma_synapse=True)\n",
    "syn_2.synapse.e = 0.0\n",
    "\n",
    "# Stand in Dopamine NT and synapse\n",
    "fake_dopamine_neuron = SynapticNeuron(neuron_type=\"dopamine_nt\", gid=12, create_dendrite=True, hodgkin_huxley=False, \n",
    "                                    x=h.cos(theta) * radius, y=h.sin(theta) + radius, z=0, theta=theta, \n",
    "                                    n_soma_segments=1, n_dendrite_segments=1)\n",
    "fake_dopamine_neuron.soma.insert('pas')\n",
    "dopamine_synapse = ExponentialSynapse(fake_dopamine_neuron, soma_synapse=False)\n",
    "\n",
    "# GABA A receptor\n",
    "gaba_a_receptor = h.GABA_A_Channel(postsynaptic_neuron.soma(0.5))\n",
    "gaba_a_receptor.ecl = -80.0 # reversal potential \n",
    "\n",
    "# pass GABAergic synapse to D2 receptor for dopamine to synapse onto\n",
    "d2_receptor = D2Receptor(exponential_synapse=dopamine_synapse, resting_membrane_potential=-65.0, G_protein_threshold=10.0)\n",
    "# insert synaptic noise \n",
    "\n",
    "pre_noise = h.SynNoise(0.5, sec=presynaptic_neuron.soma)\n",
    "pre_noise.f0 = 0\n",
    "pre_noise.f1 = 0.3\n",
    "pre_noise_2 = h.SynNoise(0.5, sec=presynaptic_neuron_2.soma)\n",
    "pre_noise_2.f0 = 0\n",
    "pre_noise_2.f1 = 0.3\n",
    "post_noise = h.SynNoise(0.5, sec=postsynaptic_neuron.soma)\n",
    "post_noise.f0 = 0\n",
    "post_noise.f1 = 0.3\n",
    "dop_noise = h.SynNoise(0.5, sec=fake_dopamine_neuron.soma)\n",
    "dop_noise.f0 = 0\n",
    "dop_noise.f1 = 0.3\n",
    "\n",
    "nmda_extra = h.GenericLigand(postsynaptic_neuron.soma(0.5))\n",
    "nmda_extra.decay_rate = 0.01\n",
    "nmda_extra.C_init = 0.8\n",
    "\n",
    "nmda_receptor = h.NMDA16_2(postsynaptic_neuron.soma(0.5))\n",
    "nmda_receptor.T = 0.1 \n",
    "nmda_receptor.synon = 0\n",
    "nmda_receptor.kd2B = 5 \n",
    "nmda_receptor.kd2F = 5\n",
    "\n",
    "nmda = h.NMDA_Channel_Calcium(postsynaptic_neuron.soma(0.5))\n",
    "nmda.gmax = 0.01\n",
    "nmda.e = 0\n",
    "nmda.mg = 1\n",
    "nmda.taur = 80\n",
    "\n",
    "# set the neurotransmitter concentration of the NMDA receptor to that of glutamate\n",
    "glutamate.C = nmda_receptor.T\n",
    "nmda_extra.C = nmda_receptor.T\n",
    "# set the activation of NMDA to the activation of the NMDA receptor\n",
    "nmda_receptor.synon = nmda.receptor_activation\n",
    "# set activation of GABA to activation of GABA receptor \n",
    "gaba_a_receptor.receptor_activation = gaba.receptor_activation"
   ]
  },
  {
   "cell_type": "code",
   "execution_count": 8,
   "metadata": {},
   "outputs": [],
   "source": [
    "nc_glutamate = h.NetCon(presynaptic_neuron.soma(0.5)._ref_v, glutamate)\n",
    "nc_glutamate.threshold = -20\n",
    "nc_glutamate.weight[0] = 0.8\n",
    "nc_glutamate.delay = 1\n",
    "\n",
    "input_current1 = InputCurrent(average_number_spikes=3, \n",
    "                            first_spike_time=100.0, average_time_between_spikes=50.0)\n",
    "input_current2 = InputCurrent(average_number_spikes=3, \n",
    "                            first_spike_time=400.0, average_time_between_spikes=10.0)\n",
    "input_current3 = InputCurrent(average_number_spikes=10, \n",
    "                            first_spike_time=1000.0, average_time_between_spikes=30.0)\n",
    "input_current4 = InputCurrent(average_number_spikes=5, \n",
    "                            first_spike_time=800.0, average_time_between_spikes=80.0)\n",
    "input_current5 = InputCurrent(average_number_spikes=15, \n",
    "                            first_spike_time=1200.0, average_time_between_spikes=20.0)\n",
    "input_current6 = InputCurrent(average_number_spikes=10, \n",
    "                            first_spike_time=50.0, average_time_between_spikes=200.0)"
   ]
  },
  {
   "cell_type": "code",
   "execution_count": 9,
   "metadata": {},
   "outputs": [],
   "source": [
    "nc = h.NetCon(presynaptic_neuron.soma(0.5)._ref_v, glutamate)\n",
    "nc.threshold = -20\n",
    "nc.weight[0] = 0.8\n",
    "nc.delay = 1\n",
    "\n",
    "nc1 = h.NetCon(input_current1.input_current, syn.synapse, sec=presynaptic_neuron.soma)\n",
    "nc1.threshold = -20\n",
    "nc1.weight[0] = 0.5\n",
    "nc1.delay = 1\n",
    "\n",
    "nc2 = h.NetCon(input_current2.input_current, syn.synapse, sec=presynaptic_neuron.soma)\n",
    "nc2.threshold = -40\n",
    "nc2.weight[0] = 0.1\n",
    "nc2.delay = 1\n",
    "\n",
    "nc3 = h.NetCon(input_current3.input_current, dopamine_synapse.synapse, sec=fake_dopamine_neuron.soma)\n",
    "nc3.threshold = -10\n",
    "nc3.weight[0] = 0.25\n",
    "nc3.delay = 1\n",
    "\n",
    "nc4 = h.NetCon(input_current4.input_current, dopamine_synapse.synapse, sec=fake_dopamine_neuron.soma)\n",
    "nc4.threshold = -5\n",
    "nc4.weight[0] = 0.15\n",
    "nc4.delay = 1\n",
    "\n",
    "nc5 = h.NetCon(input_current5.input_current, syn_2.synapse, sec=presynaptic_neuron_2.soma)\n",
    "nc5.threshold = -10\n",
    "nc5.weight[0] = 0.25\n",
    "nc5.delay = 1\n",
    "\n",
    "nc6 = h.NetCon(input_current6.input_current, syn_2.synapse, sec=presynaptic_neuron_2.soma)\n",
    "nc6.threshold = -5\n",
    "nc6.weight[0] = 0.15\n",
    "nc6.delay = 1"
   ]
  },
  {
   "cell_type": "code",
   "execution_count": 10,
   "metadata": {},
   "outputs": [],
   "source": [
    "# record data\n",
    "t = h.Vector().record(h._ref_t)\n",
    "# presynaptic voltage 1 \n",
    "v_pre_1 = h.Vector().record(presynaptic_neuron.soma(0.5)._ref_v)\n",
    "# presynaptic voltage 2\n",
    "v_pre_2 = h.Vector().record(presynaptic_neuron_2.soma(0.5)._ref_v)\n",
    "# postsynaptic voltage \n",
    "v_post = h.Vector().record(postsynaptic_neuron.dendrites(0.5)._ref_v)\n",
    "# dopamine neuron voltage \n",
    "v_dop = h.Vector().record(fake_dopamine_neuron.soma(0.5)._ref_v)\n",
    "# record glutamate concentration from motor cortex\n",
    "glutamate_conc = h.Vector().record(glutamate._ref_C)\n",
    "nmda_act = h.Vector().record(nmda_receptor._ref_synon)\n",
    "nmda_current = h.Vector().record(nmda._ref_i)\n",
    "# na_current = h.Vector().record(postsynaptic_neuron.dendrites(0.5)._ref_ina)\n",
    "ca_conc = h.Vector().record(nmda._ref_local_cai)  # Calcium concentration"
   ]
  },
  {
   "cell_type": "code",
   "execution_count": 11,
   "metadata": {},
   "outputs": [],
   "source": [
    "h.tstop = total_sim_time\n",
    "h.v_init = resting_membrane_potential\n",
    "h.dt = dt "
   ]
  },
  {
   "cell_type": "code",
   "execution_count": 12,
   "metadata": {},
   "outputs": [
    {
     "name": "stderr",
     "output_type": "stream",
     "text": [
      "  0%|          | 0/1200 [00:00<?, ?it/s]2025-02-28 20:27:42,028 Hyperpolarizing receptor..\n",
      "2025-02-28 20:27:42,029 Synapse reversal potential: -100.0\n",
      "/Users/Ethan/Documents/Documents/GithubRepos/NEURONExperiments/D2Receptor.py:80: RuntimeWarning: overflow encountered in exp\n",
      "  return 1 + (delta_T - 1 / 1 + np.exp(kT * (self.D2AR_prev - DO))) - self.TDA_prev\n",
      "/Users/Ethan/Documents/Documents/GithubRepos/NEURONExperiments/D2Receptor.py:84: RuntimeWarning: overflow encountered in exp\n",
      "  F = self.Fmax / (1 + np.exp((self.theta - self.V_rest_prev) / self.sigmoid))\n",
      "/Users/Ethan/Documents/Documents/GithubRepos/NEURONExperiments/D2Receptor.py:72: RuntimeWarning: overflow encountered in exp\n",
      "  F = self.Fmax / (1 + np.exp((self.theta - self.V_rest_prev) / self.sigmoid))\n",
      "/Users/Ethan/Documents/Documents/GithubRepos/NEURONExperiments/D2Receptor.py:80: RuntimeWarning: invalid value encountered in double_scalars\n",
      "  return 1 + (delta_T - 1 / 1 + np.exp(kT * (self.D2AR_prev - DO))) - self.TDA_prev\n",
      "2025-02-28 20:27:42,030 Hyperpolarizing receptor..\n",
      "2025-02-28 20:27:42,030 Synapse reversal potential: -100.0\n",
      "100%|██████████| 1200/1200 [00:00<00:00, 44220.00it/s]\n"
     ]
    }
   ],
   "source": [
    "for T in tqdm(range(total_sim_time)): \n",
    "    d2_receptor.step(weight=0.1, dt=0.050, total_sim_time=total_sim_time)"
   ]
  },
  {
   "cell_type": "code",
   "execution_count": 13,
   "metadata": {},
   "outputs": [
    {
     "data": {
      "text/plain": [
       "1.0"
      ]
     },
     "execution_count": 13,
     "metadata": {},
     "output_type": "execute_result"
    }
   ],
   "source": [
    "h.finitialize(resting_membrane_potential * mV)"
   ]
  },
  {
   "cell_type": "code",
   "execution_count": 14,
   "metadata": {},
   "outputs": [
    {
     "data": {
      "text/plain": [
       "0.0"
      ]
     },
     "execution_count": 14,
     "metadata": {},
     "output_type": "execute_result"
    }
   ],
   "source": [
    "h.continuerun(total_sim_time * ms)"
   ]
  },
  {
   "cell_type": "code",
   "execution_count": 15,
   "metadata": {},
   "outputs": [],
   "source": [
    "d2AR_list, daEX_list, V_list, TDA_list, G_list = (\n",
    "    d2_receptor.d2AR_list,\n",
    "    d2_receptor.daEX_list,\n",
    "    d2_receptor.V_list,\n",
    "    d2_receptor.TDA_list,\n",
    "    d2_receptor.G_list,\n",
    ")"
   ]
  },
  {
   "cell_type": "code",
   "execution_count": 16,
   "metadata": {},
   "outputs": [
    {
     "data": {
      "text/plain": [
       "<matplotlib.legend.Legend at 0x7f78a884d290>"
      ]
     },
     "execution_count": 16,
     "metadata": {},
     "output_type": "execute_result"
    }
   ],
   "source": [
    "plt.figure(figsize=(22, 16))\n",
    "\n",
    "plt.subplot(6, 1, 1)\n",
    "plt.plot(t, glutamate_conc, label=\"Glutamate Concentration (uM)\", color = \"turquoise\")\n",
    "plt.xlabel(\"Time (ms)\")\n",
    "plt.ylabel(\"Concentration (uM)\")\n",
    "plt.legend()\n",
    "\n",
    "plt.subplot(6, 1, 2)\n",
    "plt.plot(t, v_dop, label=\"Dopamine Membrane Potential (mV)\", color = \"red\")\n",
    "plt.xlabel(\"Time (ms)\")\n",
    "plt.ylabel(\"Voltage (mV)\")\n",
    "plt.legend()\n",
    "\n",
    "plt.subplot(6, 1, 3)\n",
    "plt.plot(np.arange(0, 1200, 1), daEX_list, label=\"Extracellular DA concentration (nM)\", color = \"green\")\n",
    "plt.xlabel(\"Time (ms)\")\n",
    "plt.ylabel(\"Concentration (nM)\")\n",
    "plt.legend()\n",
    "\n",
    "plt.subplot(6, 1, 4)\n",
    "plt.plot(t, v_pre_1, label=\"Presynaptic Neuron Voltage (V)\", color = \"darkorchid\")\n",
    "plt.plot(t, v_post, label=\"Postsynaptic Dendrite Voltage (V)\", color = \"palegreen\")\n",
    "plt.xlabel(\"Time (ms)\")\n",
    "plt.ylabel(\"Voltage (mV)\")\n",
    "plt.legend()"
   ]
  },
  {
   "cell_type": "markdown",
   "metadata": {},
   "source": []
  }
 ],
 "metadata": {
  "kernelspec": {
   "display_name": "neuron_venv_3.7",
   "language": "python",
   "name": "python3"
  },
  "language_info": {
   "codemirror_mode": {
    "name": "ipython",
    "version": 3
   },
   "file_extension": ".py",
   "mimetype": "text/x-python",
   "name": "python",
   "nbconvert_exporter": "python",
   "pygments_lexer": "ipython3",
   "version": "3.7.4"
  }
 },
 "nbformat": 4,
 "nbformat_minor": 2
}
